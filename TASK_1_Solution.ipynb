{
 "cells": [
  {
   "cell_type": "markdown",
   "id": "reverse-composer",
   "metadata": {},
   "source": [
    "## <center>The Sparks Foundation</center>\n",
    "## <center>Graduate Rotational Internship Program (June 2021)</center>\n",
    "## <center><b>TASK - 1</b></center>\n",
    "## <center><b>Prediction using Supervised Machine Learning</b></center>\n",
    "### <center><b>Author: Vedant Deshmukh (Data Science and Business Analysis Intern)</b></center>\n"
   ]
  },
  {
   "cell_type": "markdown",
   "id": "geographic-harris",
   "metadata": {},
   "source": [
    " In this task, \n",
    "1. We have to predict the percentatge of an student based on the no. of study  hours.\n",
    "2. What will be predicted score if a student studies for 9.25 hrs/ day?"
   ]
  },
  {
   "cell_type": "markdown",
   "id": "positive-integer",
   "metadata": {},
   "source": [
    "### Simple Linear Regression"
   ]
  },
  {
   "cell_type": "markdown",
   "id": "apart-movement",
   "metadata": {},
   "source": [
    "<p>Linear regression is one of the easiest and most popular Machine Learning algorithms. It is a statistical method that is used for predictive analysis. Linear regression makes predictions for continuous/real or numeric variables such as sales, salary, age, product price, etc.</p>\n",
    "\n",
    "<p>Linear regression algorithm shows a linear relationship between a dependent (y) and one or more independent (x) variables, hence called as linear regression. Since linear regression shows the linear relationship, which means it finds how the value of the dependent variable is changing according to the value of the independent variable.</p>\n",
    "\n",
    "<p>The linear regression model provides a sloped straight line representing the relationship between the variables. \n",
    "Mathematically, we can represent a linear regression as:\n",
    "\n",
    "    y = a0 + a1*x + ε\n",
    "\n",
    "Here,\n",
    "<ul>\n",
    "<li>Y= Dependent Variable (Target Variable)\n",
    "<li>X= Independent Variable (predictor Variable)\n",
    "<li>a0= intercept of the line (Gives an additional degree of freedom)\n",
    "<li>a1 = Linear regression coefficient (scale factor to each input value).\n",
    "<li>ε = random error</p>\n",
    "</ul></p>"
   ]
  },
  {
   "cell_type": "markdown",
   "id": "desirable-louis",
   "metadata": {},
   "source": [
    "### Importing the Libraries "
   ]
  },
  {
   "cell_type": "code",
   "execution_count": 1,
   "id": "metallic-virginia",
   "metadata": {},
   "outputs": [],
   "source": [
    "import pandas as pd\n",
    "import numpy as np\n",
    "import matplotlib.pyplot as plt\n",
    "%matplotlib inline\n",
    "import seaborn as sns"
   ]
  },
  {
   "cell_type": "markdown",
   "id": "absolute-improvement",
   "metadata": {},
   "source": [
    "### Loading the Dataset"
   ]
  },
  {
   "cell_type": "code",
   "execution_count": 2,
   "id": "alike-hayes",
   "metadata": {},
   "outputs": [
    {
     "data": {
      "text/html": [
       "<div>\n",
       "<style scoped>\n",
       "    .dataframe tbody tr th:only-of-type {\n",
       "        vertical-align: middle;\n",
       "    }\n",
       "\n",
       "    .dataframe tbody tr th {\n",
       "        vertical-align: top;\n",
       "    }\n",
       "\n",
       "    .dataframe thead th {\n",
       "        text-align: right;\n",
       "    }\n",
       "</style>\n",
       "<table border=\"1\" class=\"dataframe\">\n",
       "  <thead>\n",
       "    <tr style=\"text-align: right;\">\n",
       "      <th></th>\n",
       "      <th>Hours</th>\n",
       "      <th>Scores</th>\n",
       "    </tr>\n",
       "  </thead>\n",
       "  <tbody>\n",
       "    <tr>\n",
       "      <th>0</th>\n",
       "      <td>2.5</td>\n",
       "      <td>21</td>\n",
       "    </tr>\n",
       "    <tr>\n",
       "      <th>1</th>\n",
       "      <td>5.1</td>\n",
       "      <td>47</td>\n",
       "    </tr>\n",
       "    <tr>\n",
       "      <th>2</th>\n",
       "      <td>3.2</td>\n",
       "      <td>27</td>\n",
       "    </tr>\n",
       "    <tr>\n",
       "      <th>3</th>\n",
       "      <td>8.5</td>\n",
       "      <td>75</td>\n",
       "    </tr>\n",
       "    <tr>\n",
       "      <th>4</th>\n",
       "      <td>3.5</td>\n",
       "      <td>30</td>\n",
       "    </tr>\n",
       "  </tbody>\n",
       "</table>\n",
       "</div>"
      ],
      "text/plain": [
       "   Hours  Scores\n",
       "0    2.5      21\n",
       "1    5.1      47\n",
       "2    3.2      27\n",
       "3    8.5      75\n",
       "4    3.5      30"
      ]
     },
     "execution_count": 2,
     "metadata": {},
     "output_type": "execute_result"
    }
   ],
   "source": [
    "fileurl =  \"https://raw.githubusercontent.com/vedant27102001/TheSparksFoundation/main/Task1%20Dataset.csv\"\n",
    "data =  pd.read_csv(fileurl)\n",
    "data.head()"
   ]
  },
  {
   "cell_type": "markdown",
   "id": "unauthorized-perspective",
   "metadata": {},
   "source": [
    "### Finding the size of the data\n",
    "In this section we use \"shape\" attribute of Dataframe which returns a tuple in which first element represent number of rows and second one represent the number of columns."
   ]
  },
  {
   "cell_type": "code",
   "execution_count": 3,
   "id": "empty-joyce",
   "metadata": {},
   "outputs": [
    {
     "data": {
      "text/plain": [
       "(25, 2)"
      ]
     },
     "execution_count": 3,
     "metadata": {},
     "output_type": "execute_result"
    }
   ],
   "source": [
    "data.shape"
   ]
  },
  {
   "cell_type": "markdown",
   "id": "outer-franchise",
   "metadata": {},
   "source": [
    "### Looking for Null Values"
   ]
  },
  {
   "cell_type": "code",
   "execution_count": 4,
   "id": "worth-carolina",
   "metadata": {},
   "outputs": [
    {
     "name": "stdout",
     "output_type": "stream",
     "text": [
      "<class 'pandas.core.frame.DataFrame'>\n",
      "RangeIndex: 25 entries, 0 to 24\n",
      "Data columns (total 2 columns):\n",
      " #   Column  Non-Null Count  Dtype  \n",
      "---  ------  --------------  -----  \n",
      " 0   Hours   25 non-null     float64\n",
      " 1   Scores  25 non-null     int64  \n",
      "dtypes: float64(1), int64(1)\n",
      "memory usage: 528.0 bytes\n"
     ]
    }
   ],
   "source": [
    "data.info()"
   ]
  },
  {
   "cell_type": "markdown",
   "id": "conventional-study",
   "metadata": {},
   "source": [
    "As we can see above that, there are no null values in the dataset. So no requriement of dealing with missing values. "
   ]
  },
  {
   "cell_type": "markdown",
   "id": "casual-shower",
   "metadata": {},
   "source": [
    "### Summary Statistics\n",
    "Here, we use the describe() to get the statistical summary of the data which includes min and max value, mean and standard deviation, quartiles and count.\n"
   ]
  },
  {
   "cell_type": "code",
   "execution_count": 5,
   "id": "liquid-ukraine",
   "metadata": {},
   "outputs": [
    {
     "data": {
      "text/html": [
       "<div>\n",
       "<style scoped>\n",
       "    .dataframe tbody tr th:only-of-type {\n",
       "        vertical-align: middle;\n",
       "    }\n",
       "\n",
       "    .dataframe tbody tr th {\n",
       "        vertical-align: top;\n",
       "    }\n",
       "\n",
       "    .dataframe thead th {\n",
       "        text-align: right;\n",
       "    }\n",
       "</style>\n",
       "<table border=\"1\" class=\"dataframe\">\n",
       "  <thead>\n",
       "    <tr style=\"text-align: right;\">\n",
       "      <th></th>\n",
       "      <th>Hours</th>\n",
       "      <th>Scores</th>\n",
       "    </tr>\n",
       "  </thead>\n",
       "  <tbody>\n",
       "    <tr>\n",
       "      <th>count</th>\n",
       "      <td>25.000000</td>\n",
       "      <td>25.000000</td>\n",
       "    </tr>\n",
       "    <tr>\n",
       "      <th>mean</th>\n",
       "      <td>5.012000</td>\n",
       "      <td>51.480000</td>\n",
       "    </tr>\n",
       "    <tr>\n",
       "      <th>std</th>\n",
       "      <td>2.525094</td>\n",
       "      <td>25.286887</td>\n",
       "    </tr>\n",
       "    <tr>\n",
       "      <th>min</th>\n",
       "      <td>1.100000</td>\n",
       "      <td>17.000000</td>\n",
       "    </tr>\n",
       "    <tr>\n",
       "      <th>25%</th>\n",
       "      <td>2.700000</td>\n",
       "      <td>30.000000</td>\n",
       "    </tr>\n",
       "    <tr>\n",
       "      <th>50%</th>\n",
       "      <td>4.800000</td>\n",
       "      <td>47.000000</td>\n",
       "    </tr>\n",
       "    <tr>\n",
       "      <th>75%</th>\n",
       "      <td>7.400000</td>\n",
       "      <td>75.000000</td>\n",
       "    </tr>\n",
       "    <tr>\n",
       "      <th>max</th>\n",
       "      <td>9.200000</td>\n",
       "      <td>95.000000</td>\n",
       "    </tr>\n",
       "  </tbody>\n",
       "</table>\n",
       "</div>"
      ],
      "text/plain": [
       "           Hours     Scores\n",
       "count  25.000000  25.000000\n",
       "mean    5.012000  51.480000\n",
       "std     2.525094  25.286887\n",
       "min     1.100000  17.000000\n",
       "25%     2.700000  30.000000\n",
       "50%     4.800000  47.000000\n",
       "75%     7.400000  75.000000\n",
       "max     9.200000  95.000000"
      ]
     },
     "execution_count": 5,
     "metadata": {},
     "output_type": "execute_result"
    }
   ],
   "source": [
    "data.describe()"
   ]
  },
  {
   "cell_type": "markdown",
   "id": "smart-bundle",
   "metadata": {},
   "source": [
    "#### Obeservations:\n",
    "<ul>\n",
    "    <li> The Mean value is greater than the median value (50% percentile)\n",
    "     <li> The difference between max value and value at 75% percentile is very small.  \n",
    "         <li> From above obeservations, we can draw the inference that there are no outliers present  in the data.\n",
    "\n",
    "</ul>"
   ]
  },
  {
   "cell_type": "markdown",
   "id": "desirable-institution",
   "metadata": {},
   "source": [
    " ### Checking for Outliers in the data using Boxplot "
   ]
  },
  {
   "cell_type": "code",
   "execution_count": 6,
   "id": "median-exhaust",
   "metadata": {},
   "outputs": [
    {
     "data": {
      "image/png": "[encoded data removed]",
      "text/plain": [
       "<Figure size 1080x216 with 2 Axes>"
      ]
     },
     "metadata": {
      "needs_background": "light"
     },
     "output_type": "display_data"
    }
   ],
   "source": [
    "fig, axes = plt.subplots(1,2, figsize = (15, 3))\n",
    "fig.suptitle(\"Boxplot of Hours and Scores for checking Outliers\")\n",
    "sns.set_style('whitegrid')\n",
    "sns.boxplot(ax = axes[0], x = data['Hours'], color = 'green')\n",
    "sns.boxplot(ax = axes[1], x = data['Scores'], color = 'green')\n",
    "plt.show()"
   ]
  },
  {
   "cell_type": "markdown",
   "id": "human-reserve",
   "metadata": {},
   "source": [
    "This boxplot verifies that there are no outliers present in data."
   ]
  },
  {
   "cell_type": "markdown",
   "id": "advanced-special",
   "metadata": {},
   "source": [
    "### Finding Correlation between the Variables\n",
    "<p>A correlation is a statistical measure of the relationship between two variables. The measure is best used in variables that demonstrate a linear relationship between each other.</p>\n",
    "<p>The correlation coefficient is a value that indicates the strength of the relationship between variables. The coefficient can take any values from -1 to 1. The interpretations of the values are :\n",
    "<ul>\n",
    "    <li> -1: Perfect negative correlation. The variables tend to move in opposite directions (i.e., when one variable increases, the other variable decreases).\n",
    "    <li> 0: No correlation. The variables do not have a relationship with each other.\n",
    "    <li> 1: Perfect positive correlation. The variables tend to move in the same direction (i.e., when one variable increases, the other variable also increases).</ul></p>"
   ]
  },
  {
   "cell_type": "code",
   "execution_count": 7,
   "id": "documentary-polish",
   "metadata": {},
   "outputs": [
    {
     "data": {
      "text/plain": [
       "<AxesSubplot:>"
      ]
     },
     "execution_count": 7,
     "metadata": {},
     "output_type": "execute_result"
    },
    {
     "data": {
      "image/png": "[encoded data removed]",
      "text/plain": [
       "<Figure size 432x288 with 2 Axes>"
      ]
     },
     "metadata": {},
     "output_type": "display_data"
    }
   ],
   "source": [
    "correlation = data.corr()\n",
    "sns.heatmap(correlation, annot = True, cmap = \"viridis\")"
   ]
  },
  {
   "cell_type": "markdown",
   "id": "fleet-maine",
   "metadata": {},
   "source": [
    "From the above heatmap, we can see that both input  and target  variable are highly correlated in positive direction."
   ]
  },
  {
   "cell_type": "markdown",
   "id": "satisfied-minneapolis",
   "metadata": {},
   "source": [
    "### Finding relation between input and target variable using Scatter Plot\n",
    "The fit of the data can be visually represented in a scatterplot. Using a scatterplot, we can generally assess the relationship between the variables and determine whether they are correlated or not."
   ]
  },
  {
   "cell_type": "code",
   "execution_count": 8,
   "id": "educated-correlation",
   "metadata": {},
   "outputs": [
    {
     "data": {
      "image/png": "[encoded data removed]",
      "text/plain": [
       "<Figure size 432x288 with 1 Axes>"
      ]
     },
     "metadata": {},
     "output_type": "display_data"
    }
   ],
   "source": [
    "plt.scatter(data['Hours'], data['Scores'], c = \"Red\")\n",
    "plt.title(\"Scatter Plot between Hours and Percentage\")\n",
    "plt.xlabel(\"Number of Hours\")\n",
    "plt.ylabel(\"Percentage\")\n",
    "plt.show()"
   ]
  },
  {
   "cell_type": "markdown",
   "id": "starting-verse",
   "metadata": {},
   "source": [
    "The above scatter plot shows that if a student increases his/her study hours, his/her score might also increase."
   ]
  },
  {
   "cell_type": "markdown",
   "id": "saved-synthetic",
   "metadata": {},
   "source": [
    "### Data Preparation for Model Creation"
   ]
  },
  {
   "cell_type": "markdown",
   "id": "helpful-miami",
   "metadata": {},
   "source": [
    "##### <b>Splitting the data into Input variables and Target variable</b>"
   ]
  },
  {
   "cell_type": "code",
   "execution_count": 9,
   "id": "described-generator",
   "metadata": {},
   "outputs": [],
   "source": [
    "X = data[\"Hours\"].values.reshape(-1,1)\n",
    "Y= data[\"Scores\"].values.reshape(-1,1)"
   ]
  },
  {
   "cell_type": "markdown",
   "id": "according-orchestra",
   "metadata": {},
   "source": [
    "##### <b>Splitting the data into Training and Test Set</b>"
   ]
  },
  {
   "cell_type": "code",
   "execution_count": 10,
   "id": "retained-parent",
   "metadata": {},
   "outputs": [
    {
     "name": "stdout",
     "output_type": "stream",
     "text": [
      "Training Set X :  (20, 1)\n",
      "Training Set Y :  (20, 1)\n",
      "Test Set X :  (5, 1)\n",
      "Test Set Y :  (5, 1)\n"
     ]
    }
   ],
   "source": [
    "from sklearn.model_selection import train_test_split\n",
    "x_train, x_test, y_train, y_test = train_test_split(X,Y, test_size = 0.2, random_state = 0)\n",
    "print(\"Training Set X : \", x_train.shape)\n",
    "print(\"Training Set Y : \", y_train.shape)\n",
    "print(\"Test Set X : \", x_test.shape)\n",
    "print(\"Test Set Y : \", y_test.shape)"
   ]
  },
  {
   "cell_type": "markdown",
   "id": "provincial-episode",
   "metadata": {},
   "source": [
    "### Model Creation"
   ]
  },
  {
   "cell_type": "markdown",
   "id": "everyday-seeking",
   "metadata": {},
   "source": [
    "Here, we build a ML model of Simple Linear Regression using Scikit-Learn library and training the model through the given dataset to predict the score of the Student based on the number of hours he/she study."
   ]
  },
  {
   "cell_type": "code",
   "execution_count": 11,
   "id": "unauthorized-factory",
   "metadata": {},
   "outputs": [],
   "source": [
    "from sklearn.linear_model import LinearRegression"
   ]
  },
  {
   "cell_type": "code",
   "execution_count": 12,
   "id": "first-sharp",
   "metadata": {},
   "outputs": [
    {
     "name": "stdout",
     "output_type": "stream",
     "text": [
      "Coefficient:  [[9.91065648]]\n",
      "Intercept:  [2.01816004]\n"
     ]
    }
   ],
   "source": [
    "model =  LinearRegression()\n",
    "model.fit(x_train, y_train)\n",
    "print(\"Coefficient: \", model.coef_)\n",
    "print(\"Intercept: \", model.intercept_)\n"
   ]
  },
  {
   "cell_type": "markdown",
   "id": "static-explorer",
   "metadata": {},
   "source": [
    "##### <b>Plotting the fitted regression line on the Scatter Plot</b>"
   ]
  },
  {
   "cell_type": "code",
   "execution_count": 13,
   "id": "legitimate-moment",
   "metadata": {},
   "outputs": [
    {
     "data": {
      "image/png": "[encoded data removed]",
      "text/plain": [
       "<Figure size 432x288 with 1 Axes>"
      ]
     },
     "metadata": {},
     "output_type": "display_data"
    }
   ],
   "source": [
    "line  = model.coef_*X + model.intercept_\n",
    "plt.scatter(X, Y, c = 'Red')\n",
    "plt.plot(X,line)\n",
    "plt.xlabel(\"Number of Hours\")\n",
    "plt.ylabel(\"Score\")\n",
    "plt.title(\"Regression Plot\")\n",
    "plt.show()\n"
   ]
  },
  {
   "cell_type": "markdown",
   "id": "silver-rating",
   "metadata": {},
   "source": [
    "### Prediction using the Created Model "
   ]
  },
  {
   "cell_type": "code",
   "execution_count": 14,
   "id": "western-savannah",
   "metadata": {},
   "outputs": [
    {
     "data": {
      "text/plain": [
       "array([[16.88414476],\n",
       "       [33.73226078],\n",
       "       [75.357018  ],\n",
       "       [26.79480124],\n",
       "       [60.49103328]])"
      ]
     },
     "execution_count": 14,
     "metadata": {},
     "output_type": "execute_result"
    }
   ],
   "source": [
    "y_rslt = model.predict(x_test)\n",
    "y_rslt"
   ]
  },
  {
   "cell_type": "markdown",
   "id": "productive-azerbaijan",
   "metadata": {},
   "source": [
    "### Model Evaluation"
   ]
  },
  {
   "cell_type": "code",
   "execution_count": 15,
   "id": "informal-yugoslavia",
   "metadata": {},
   "outputs": [],
   "source": [
    "from sklearn.metrics import r2_score, mean_absolute_error "
   ]
  },
  {
   "cell_type": "code",
   "execution_count": 16,
   "id": "raising-cliff",
   "metadata": {},
   "outputs": [
    {
     "name": "stdout",
     "output_type": "stream",
     "text": [
      "Mean Absolute Error :  4.183859899002975\n",
      "R2_score :  0.9454906892105355\n"
     ]
    }
   ],
   "source": [
    "print(\"Mean Absolute Error : \", mean_absolute_error(y_test, y_rslt))\n",
    "print(\"R2_score : \", r2_score(y_test, y_rslt))"
   ]
  },
  {
   "cell_type": "markdown",
   "id": "pacific-feelings",
   "metadata": {},
   "source": [
    "### Final Observations\n",
    "<ul>\n",
    "    <li> We observe that the predicted values have very minimal error.\n",
    "    <li> Overall accuracy of the model is 94%.\n",
    "\n",
    "</ul>"
   ]
  },
  {
   "cell_type": "markdown",
   "id": "color-innocent",
   "metadata": {},
   "source": [
    "### <b>Prediction Using Model</b>"
   ]
  },
  {
   "cell_type": "markdown",
   "id": "aging-oliver",
   "metadata": {},
   "source": [
    "#### What will be predicted score if a student studies for 9.25 hrs/ day?"
   ]
  },
  {
   "cell_type": "code",
   "execution_count": 17,
   "id": "british-correction",
   "metadata": {},
   "outputs": [
    {
     "data": {
      "text/plain": [
       "array([[93.7]])"
      ]
     },
     "execution_count": 17,
     "metadata": {},
     "output_type": "execute_result"
    }
   ],
   "source": [
    "Hour = np.array([9.25]).reshape(-1,1) \n",
    "Percentage = model.predict(Hour)\n",
    "Percentage = np.round(Percentage, decimals = 1)\n",
    "Percentage"
   ]
  },
  {
   "cell_type": "markdown",
   "id": "premier-links",
   "metadata": {},
   "source": [
    "<b>Here, the Linear regression model predicts that if a Student study for 9.25 hours, then he/she will get approximately 93.7% score.</b>`"
   ]
  }
 ],
 "metadata": {
  "kernelspec": {
   "display_name": "Python 3",
   "language": "python",
   "name": "python3"
  },
  "language_info": {
   "codemirror_mode": {
    "name": "ipython",
    "version": 3
   },
   "file_extension": ".py",
   "mimetype": "text/x-python",
   "name": "python",
   "nbconvert_exporter": "python",
   "pygments_lexer": "ipython3",
   "version": "3.8.7"
  }
 },
 "nbformat": 4,
 "nbformat_minor": 5
}
